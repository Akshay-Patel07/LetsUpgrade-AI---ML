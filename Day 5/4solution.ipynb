{
 "cells": [
  {
   "cell_type": "code",
   "execution_count": 1,
   "metadata": {},
   "outputs": [
    {
     "name": "stdout",
     "output_type": "stream",
     "text": [
      "dR. dARSHAN iNGLE @ai-ml tRAINER\n"
     ]
    }
   ],
   "source": [
    "def convertOpposite(str): \n",
    "    ln = len(str) \n",
    "  \n",
    "    for i in range(ln): \n",
    "        if str[i] >= 'a' and str[i] <= 'z': \n",
    "  \n",
    "            str[i] = chr(ord(str[i]) - 32) \n",
    "  \n",
    "        elif str[i] >= 'A' and str[i] <= 'Z': \n",
    "   \n",
    "            str[i] = chr(ord(str[i]) + 32) \n",
    "  \n",
    "if __name__ == \"__main__\": \n",
    "    str = \"Dr. Darshan Ingle @AI-ML Trainer\"\n",
    "    str = list(str) \n",
    "  \n",
    "    # Calling the Function \n",
    "    convertOpposite(str) \n",
    "  \n",
    "    str = ''.join(str) \n",
    "    print(str)"
   ]
  },
  {
   "cell_type": "code",
   "execution_count": null,
   "metadata": {},
   "outputs": [],
   "source": []
  }
 ],
 "metadata": {
  "kernelspec": {
   "display_name": "Python 3",
   "language": "python",
   "name": "python3"
  },
  "language_info": {
   "codemirror_mode": {
    "name": "ipython",
    "version": 3
   },
   "file_extension": ".py",
   "mimetype": "text/x-python",
   "name": "python",
   "nbconvert_exporter": "python",
   "pygments_lexer": "ipython3",
   "version": "3.6.4"
  }
 },
 "nbformat": 4,
 "nbformat_minor": 2
}
